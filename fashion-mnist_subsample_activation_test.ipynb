{
 "cells": [
  {
   "cell_type": "code",
   "execution_count": 1,
   "metadata": {},
   "outputs": [
    {
     "name": "stderr",
     "output_type": "stream",
     "text": [
      "/Users/cookie/anaconda2/lib/python2.7/site-packages/h5py/__init__.py:36: FutureWarning: Conversion of the second argument of issubdtype from `float` to `np.floating` is deprecated. In future, it will be treated as `np.float64 == np.dtype(float).type`.\n",
      "  from ._conv import register_converters as _register_converters\n",
      "Using TensorFlow backend.\n"
     ]
    }
   ],
   "source": [
    "from keras.datasets import fashion_mnist\n",
    "(x_train, y_train), (x_test, y_test) = fashion_mnist.load_data()"
   ]
  },
  {
   "cell_type": "code",
   "execution_count": 2,
   "metadata": {},
   "outputs": [
    {
     "data": {
      "text/plain": [
       "(60000, 28, 28)"
      ]
     },
     "execution_count": 2,
     "metadata": {},
     "output_type": "execute_result"
    }
   ],
   "source": [
    "x_train.shape"
   ]
  },
  {
   "cell_type": "code",
   "execution_count": 3,
   "metadata": {},
   "outputs": [
    {
     "name": "stdout",
     "output_type": "stream",
     "text": [
      "2.1.6\n"
     ]
    }
   ],
   "source": [
    "import keras; print(keras.__version__);"
   ]
  },
  {
   "cell_type": "code",
   "execution_count": 4,
   "metadata": {},
   "outputs": [],
   "source": [
    "sample_size = 1000\n",
    "sampleN_train = sample_size\n",
    "sampleN_test = int(sample_size*.1)\n",
    "\n",
    "x_train = x_train[0:sampleN_train]\n",
    "x_test = x_test[0:sampleN_test]\n",
    "y_train = y_train[0:sampleN_train]\n",
    "y_test = y_test[0:sampleN_test]"
   ]
  },
  {
   "cell_type": "code",
   "execution_count": 5,
   "metadata": {},
   "outputs": [],
   "source": [
    "import numpy as np\n",
    "np.random.seed(123) "
   ]
  },
  {
   "cell_type": "code",
   "execution_count": 6,
   "metadata": {},
   "outputs": [
    {
     "data": {
      "text/plain": [
       "<matplotlib.image.AxesImage at 0xb1f7471d0>"
      ]
     },
     "execution_count": 6,
     "metadata": {},
     "output_type": "execute_result"
    }
   ],
   "source": [
    "from matplotlib import pyplot as plt\n",
    "\n",
    "# Uncomment in python editors so plot will display\n",
    "#plt.interactive(False)\n",
    "\n",
    "plt.imshow(x_train[0])"
   ]
  },
  {
   "cell_type": "code",
   "execution_count": 7,
   "metadata": {},
   "outputs": [],
   "source": [
    "x_train = x_train.reshape(x_train.shape[0], 28, 28, 1).astype('float32')\n",
    "x_test = x_test.reshape(x_test.shape[0], 28, 28, 1).astype('float32')"
   ]
  },
  {
   "cell_type": "code",
   "execution_count": 8,
   "metadata": {},
   "outputs": [
    {
     "data": {
      "text/plain": [
       "(1000, 28, 28, 1)"
      ]
     },
     "execution_count": 8,
     "metadata": {},
     "output_type": "execute_result"
    }
   ],
   "source": [
    "x_train.shape"
   ]
  },
  {
   "cell_type": "code",
   "execution_count": 9,
   "metadata": {},
   "outputs": [],
   "source": [
    "x_train /= 255\n",
    "x_test /= 255"
   ]
  },
  {
   "cell_type": "code",
   "execution_count": 10,
   "metadata": {},
   "outputs": [
    {
     "data": {
      "text/plain": [
       "array([9, 0, 0, 3, 0, 2, 7, 2, 5, 5], dtype=uint8)"
      ]
     },
     "execution_count": 10,
     "metadata": {},
     "output_type": "execute_result"
    }
   ],
   "source": [
    "y_train[:10]"
   ]
  },
  {
   "cell_type": "code",
   "execution_count": 11,
   "metadata": {},
   "outputs": [],
   "source": [
    "from keras.utils import np_utils\n",
    "y_train = np_utils.to_categorical(y_train, 10)\n",
    "y_test = np_utils.to_categorical(y_test, 10)"
   ]
  },
  {
   "cell_type": "code",
   "execution_count": 12,
   "metadata": {
    "scrolled": true
   },
   "outputs": [
    {
     "data": {
      "text/plain": [
       "array([[0., 0., 0., 0., 0., 0., 0., 0., 0., 1.],\n",
       "       [1., 0., 0., 0., 0., 0., 0., 0., 0., 0.],\n",
       "       [1., 0., 0., 0., 0., 0., 0., 0., 0., 0.],\n",
       "       [0., 0., 0., 1., 0., 0., 0., 0., 0., 0.],\n",
       "       [1., 0., 0., 0., 0., 0., 0., 0., 0., 0.],\n",
       "       [0., 0., 1., 0., 0., 0., 0., 0., 0., 0.],\n",
       "       [0., 0., 0., 0., 0., 0., 0., 1., 0., 0.],\n",
       "       [0., 0., 1., 0., 0., 0., 0., 0., 0., 0.],\n",
       "       [0., 0., 0., 0., 0., 1., 0., 0., 0., 0.],\n",
       "       [0., 0., 0., 0., 0., 1., 0., 0., 0., 0.]], dtype=float32)"
      ]
     },
     "execution_count": 12,
     "metadata": {},
     "output_type": "execute_result"
    }
   ],
   "source": [
    "y_train[:10]"
   ]
  },
  {
   "cell_type": "code",
   "execution_count": 13,
   "metadata": {},
   "outputs": [
    {
     "data": {
      "text/plain": [
       "array([[0., 0., 0., 0., 0., 0., 0., 0., 0., 1.],\n",
       "       [1., 0., 0., 0., 0., 0., 0., 0., 0., 0.],\n",
       "       [1., 0., 0., 0., 0., 0., 0., 0., 0., 0.],\n",
       "       [0., 0., 0., 1., 0., 0., 0., 0., 0., 0.],\n",
       "       [1., 0., 0., 0., 0., 0., 0., 0., 0., 0.],\n",
       "       [0., 0., 1., 0., 0., 0., 0., 0., 0., 0.],\n",
       "       [0., 0., 0., 0., 0., 0., 0., 1., 0., 0.],\n",
       "       [0., 0., 1., 0., 0., 0., 0., 0., 0., 0.],\n",
       "       [0., 0., 0., 0., 0., 1., 0., 0., 0., 0.],\n",
       "       [0., 0., 0., 0., 0., 1., 0., 0., 0., 0.]], dtype=float32)"
      ]
     },
     "execution_count": 13,
     "metadata": {},
     "output_type": "execute_result"
    }
   ],
   "source": [
    "y_train[:10]"
   ]
  },
  {
   "cell_type": "code",
   "execution_count": 14,
   "metadata": {},
   "outputs": [],
   "source": [
    "from keras.models import Sequential\n",
    "from keras.layers import Dense, Dropout, Activation, Flatten\n",
    "from keras.layers import Conv2D, MaxPooling2D"
   ]
  },
  {
   "cell_type": "code",
   "execution_count": 15,
   "metadata": {},
   "outputs": [],
   "source": [
    "model = Sequential()\n",
    "model.add(Conv2D(32, kernel_size=(3, 3), strides=(1, 1), activation='relu', input_shape=(28,28,1)))\n",
    "model.add(MaxPooling2D(pool_size=(2, 2), strides=(2, 2)))\n",
    "model.add(Dropout(0.25))\n",
    "model.add(Conv2D(64, (3, 3), activation='relu'))\n",
    "model.add(MaxPooling2D(pool_size=(2, 2)))\n",
    "model.add(Dropout(0.5))\n",
    "model.add(Flatten())\n",
    "model.add(Dense(1000, activation='relu'))\n",
    "model.add(Dense(10, activation='softmax'))"
   ]
  },
  {
   "cell_type": "code",
   "execution_count": 16,
   "metadata": {},
   "outputs": [],
   "source": [
    "model.compile(loss='categorical_crossentropy',\n",
    "              optimizer='adam',\n",
    "              metrics=['accuracy'])"
   ]
  },
  {
   "cell_type": "code",
   "execution_count": 17,
   "metadata": {},
   "outputs": [
    {
     "name": "stderr",
     "output_type": "stream",
     "text": [
      "/Users/cookie/anaconda2/lib/python2.7/site-packages/keras/models.py:981: UserWarning: The `nb_epoch` argument in `fit` has been renamed `epochs`.\n",
      "  warnings.warn('The `nb_epoch` argument in `fit` '\n"
     ]
    },
    {
     "name": "stdout",
     "output_type": "stream",
     "text": [
      "Epoch 1/3\n",
      "1000/1000 [==============================] - 4s 4ms/step - loss: 2.3028 - acc: 0.0910\n",
      "Epoch 2/3\n",
      "1000/1000 [==============================] - 4s 4ms/step - loss: 2.3021 - acc: 0.1150\n",
      "Epoch 3/3\n",
      "1000/1000 [==============================] - 4s 4ms/step - loss: 2.3011 - acc: 0.1150\n",
      "softmax 0.11000\n",
      "Epoch 1/3\n",
      "1000/1000 [==============================] - 3s 3ms/step - loss: 4.4920 - acc: 0.1050\n",
      "Epoch 2/3\n",
      "1000/1000 [==============================] - 2s 2ms/step - loss: 2.3312 - acc: 0.1520\n",
      "Epoch 3/3\n",
      "1000/1000 [==============================] - 3s 3ms/step - loss: 1.6322 - acc: 0.4210\n",
      "softplus 0.51000\n",
      "Epoch 1/3\n",
      "1000/1000 [==============================] - 3s 3ms/step - loss: 1.3735 - acc: 0.5240A: 0s - loss: 1.3899 - acc: 0.51\n",
      "Epoch 2/3\n",
      "1000/1000 [==============================] - 3s 3ms/step - loss: 0.7683 - acc: 0.7270\n",
      "Epoch 3/3\n",
      "1000/1000 [==============================] - 3s 3ms/step - loss: 0.6498 - acc: 0.7540\n",
      "softsign 0.75000\n",
      "Epoch 1/3\n",
      "1000/1000 [==============================] - 3s 3ms/step - loss: 1.5181 - acc: 0.4560\n",
      "Epoch 2/3\n",
      "1000/1000 [==============================] - 3s 3ms/step - loss: 0.8306 - acc: 0.6740A: 0s - loss: 0.8580 - ac\n",
      "Epoch 3/3\n",
      "1000/1000 [==============================] - 3s 3ms/step - loss: 0.7164 - acc: 0.7360\n",
      "relu 0.72000\n",
      "Epoch 1/3\n",
      "1000/1000 [==============================] - 3s 3ms/step - loss: 1.2639 - acc: 0.5680A: 4s - l\n",
      "Epoch 2/3\n",
      "1000/1000 [==============================] - 3s 3ms/step - loss: 0.7289 - acc: 0.7360\n",
      "Epoch 3/3\n",
      "1000/1000 [==============================] - 3s 3ms/step - loss: 0.5939 - acc: 0.7930\n",
      "tanh 0.72000\n",
      "Epoch 1/3\n",
      "1000/1000 [==============================] - 3s 3ms/step - loss: 2.5999 - acc: 0.0900A: 0s - loss: 2.6530 - ac\n",
      "Epoch 2/3\n",
      "1000/1000 [==============================] - 3s 3ms/step - loss: 2.0589 - acc: 0.2820\n",
      "Epoch 3/3\n",
      "1000/1000 [==============================] - 3s 3ms/step - loss: 1.2424 - acc: 0.5280\n",
      "sigmoid 0.50000\n",
      "Epoch 1/3\n",
      "1000/1000 [==============================] - 4s 4ms/step - loss: 2.7197 - acc: 0.1080\n",
      "Epoch 2/3\n",
      "1000/1000 [==============================] - 3s 3ms/step - loss: 1.9499 - acc: 0.3220\n",
      "Epoch 3/3\n",
      "1000/1000 [==============================] - 3s 3ms/step - loss: 1.1949 - acc: 0.5680\n",
      "hard_sigmoid 0.54000\n",
      "Epoch 1/3\n",
      "1000/1000 [==============================] - 3s 3ms/step - loss: 1.2673 - acc: 0.5660\n",
      "Epoch 2/3\n",
      "1000/1000 [==============================] - 3s 3ms/step - loss: 0.6904 - acc: 0.7390\n",
      "Epoch 3/3\n",
      "1000/1000 [==============================] - 3s 3ms/step - loss: 0.5880 - acc: 0.7790\n",
      "linear 0.75000\n"
     ]
    },
    {
     "data": {
      "image/png": "[encoded data removed]",
      "text/plain": [
       "<Figure size 432x288 with 8 Axes>"
      ]
     },
     "metadata": {},
     "output_type": "display_data"
    }
   ],
   "source": [
    "# Define contant parameters for this test\n",
    "batch_size = 32\n",
    "nb_epoch = 3\n",
    "optimizer = 'adam'\n",
    "metrics = ['accuracy']\n",
    "loss ='categorical_crossentropy'\n",
    "\n",
    "# Define Variable parameters for test\n",
    "activation_func = ['softmax', 'softplus', 'softsign', 'relu', 'tanh', 'sigmoid', 'hard_sigmoid', 'linear']\n",
    "\n",
    "# Plot placeholder\n",
    "figure = plt.figure()\n",
    "\n",
    "for i, f in enumerate(activation_func):\n",
    "    name = \"my_model_%d_%s_%d_%d\" % (sample_size,f,batch_size,nb_epoch)\n",
    "    \n",
    "    model = Sequential()\n",
    "    model.add(Conv2D(32, kernel_size=(3, 3), strides=(1, 1), activation='relu', input_shape=(28,28,1)))\n",
    "    model.add(MaxPooling2D(pool_size=(2, 2), strides=(2, 2)))\n",
    "    model.add(Dropout(0.25))\n",
    "    model.add(Conv2D(64, (3, 3), activation=f))\n",
    "    model.add(MaxPooling2D(pool_size=(2, 2)))\n",
    "    model.add(Dropout(0.5))\n",
    "    model.add(Flatten())\n",
    "    model.add(Dense(1000, activation=f))\n",
    "    model.add(Dense(10, activation='softmax'))\n",
    "\n",
    "    # Install pydot and graphiz to plot a flow chart of the layers\n",
    "    #from keras.utils import plot_model\n",
    "    #plot_model(model, to_file=concat(name,'.png'), show_shapes=True, show_layer_names=True)\n",
    "\n",
    "    # In[108]:\n",
    "    model.compile(loss=loss,\n",
    "                  optimizer=optimizer,\n",
    "                  metrics=metrics)\n",
    "    # In[109]:\n",
    "    history = model.fit(x_train, y_train,\n",
    "              batch_size=batch_size, nb_epoch=nb_epoch, verbose=1)\n",
    "    # In[110]:\n",
    "    score = model.evaluate(x_test, y_test, verbose=0)\n",
    "\n",
    "    # In[111]:\n",
    "    print \"%s %.5f\" % (f, score[1])\n",
    "\n",
    "    # plot metrics\n",
    "    figure.add_subplot(4, 2, i+1)\n",
    "    plt.plot(history.history['acc'])\n",
    "    plt.title(f)\n",
    "\n",
    "    # In[112]:\n",
    "    save_as = \"fashion_mnist/%s\" % name\n",
    "    model.save(save_as)"
   ]
  },
  {
   "cell_type": "code",
   "execution_count": 18,
   "metadata": {},
   "outputs": [],
   "source": [
    "plt.show()"
   ]
  },
  {
   "cell_type": "code",
   "execution_count": null,
   "metadata": {},
   "outputs": [],
   "source": []
  },
  {
   "cell_type": "code",
   "execution_count": null,
   "metadata": {},
   "outputs": [],
   "source": []
  }
 ],
 "metadata": {
  "kernelspec": {
   "display_name": "Python 2",
   "language": "python",
   "name": "python2"
  },
  "language_info": {
   "codemirror_mode": {
    "name": "ipython",
    "version": 2
   },
   "file_extension": ".py",
   "mimetype": "text/x-python",
   "name": "python",
   "nbconvert_exporter": "python",
   "pygments_lexer": "ipython2",
   "version": "2.7.15"
  }
 },
 "nbformat": 4,
 "nbformat_minor": 2
}
