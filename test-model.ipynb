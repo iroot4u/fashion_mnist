{
 "cells": [
  {
   "cell_type": "code",
   "execution_count": 27,
   "metadata": {},
   "outputs": [],
   "source": [
    "from keras.models import load_model\n",
    "from PIL import Image\n",
    "from IPython.display import display \n",
    "import PIL.ImageOps \n",
    "import numpy as np\n",
    "from IPython.display import display, HTML\n",
    "labels = ['T-shirt/Top', 'Trouser', 'Pullover', 'Dress', 'Coat', 'Sandal', 'Shirt', 'Sneaker', 'Bag', 'Ankle Boot']"
   ]
  },
  {
   "cell_type": "code",
   "execution_count": 5,
   "metadata": {},
   "outputs": [],
   "source": [
    "model = load_model('my_model.h5')"
   ]
  },
  {
   "cell_type": "code",
   "execution_count": 12,
   "metadata": {},
   "outputs": [],
   "source": [
    "def read_files(dirName):\n",
    "    from os import listdir\n",
    "    from os.path import isfile, join, abspath\n",
    "    onlyfiles = [join(dirName, f) for f in listdir(dirName) if not f.startswith('.') and isfile(join(dirName, f))]\n",
    "    return onlyfiles"
   ]
  },
  {
   "cell_type": "code",
   "execution_count": 43,
   "metadata": {},
   "outputs": [],
   "source": [
    "def predict_class(im):\n",
    "    im_28 = PIL.ImageOps.invert(im.resize((28, 28)))\n",
    "    im_28_gr = im_28.convert('L')\n",
    "    im_28_gr_arr = np.asarray(im_28_gr).astype('float32')\n",
    "    im_28_gr_arr /= 255\n",
    "    x_test = np.array([im_28_gr_arr.reshape(28, 28, 1)])\n",
    "    result = model.predict(x_test)\n",
    "    index = sorted(range(len(result[0])), key=lambda i: result[0][i], reverse=True)[:3]\n",
    "    prob = np.around(result[0][index], decimals=2)*100\n",
    "    return prob, index"
   ]
  },
  {
   "cell_type": "code",
   "execution_count": 89,
   "metadata": {},
   "outputs": [],
   "source": [
    "filesList = read_files(\"./test_data/\")\n",
    "content = ''\n",
    "# content = '.container{position:relative;text-align:center;color:white;}.bottom-right{position:absolute;bottom:8px;right:16px;}'\n",
    "for fileName in filesList:\n",
    "    im = Image.open(fileName)\n",
    "    prob, index = predict_class(im)\n",
    "    label_classes = ''\n",
    "    for i, v in enumerate(index):\n",
    "        if prob[i] > 0 :\n",
    "            label_classes = label_classes + labels[v] + '(' + str(prob[i]) + ')<br/>'\n",
    "    content = content + '<div style=\"position: relative;float: right; margin: 5px;width:200px; height: 400px\"><img src=\"{}\" style=\"display:inline;margin:1px;\"/>'.format(fileName)+'<div>{}</div></div>'.format(label_classes)"
   ]
  },
  {
   "cell_type": "code",
   "execution_count": 90,
   "metadata": {},
   "outputs": [
    {
     "data": {
      "text/html": [
       "<div style=\"position: relative;float: right; margin: 5px;width:200px; height: 400px\"><img src=\"./test_data/IMG-3.JPG\" style=\"display:inline;margin:1px;\"/><div>Pullover(32.0)<br/>Shirt(32.0)<br/>T-shirt/Top(24.0)<br/></div></div><div style=\"position: relative;float: right; margin: 5px;width:200px; height: 400px\"><img src=\"./test_data/IMG-2.JPG\" style=\"display:inline;margin:1px;\"/><div>Pullover(97.0)<br/>Shirt(2.0)<br/>Coat(1.0)<br/></div></div><div style=\"position: relative;float: right; margin: 5px;width:200px; height: 400px\"><img src=\"./test_data/IMG-1.JPG\" style=\"display:inline;margin:1px;\"/><div>Bag(100.0)<br/></div></div><div style=\"position: relative;float: right; margin: 5px;width:200px; height: 400px\"><img src=\"./test_data/IMG-5.JPG\" style=\"display:inline;margin:1px;\"/><div>Ankle Boot(100.0)<br/></div></div><div style=\"position: relative;float: right; margin: 5px;width:200px; height: 400px\"><img src=\"./test_data/IMG-4.JPG\" style=\"display:inline;margin:1px;\"/><div>Dress(36.0)<br/>T-shirt/Top(27.000002)<br/>Shirt(19.0)<br/></div></div><div style=\"position: relative;float: right; margin: 5px;width:200px; height: 400px\"><img src=\"./test_data/IMG-6.JPG\" style=\"display:inline;margin:1px;\"/><div>Dress(100.0)<br/></div></div><div style=\"position: relative;float: right; margin: 5px;width:200px; height: 400px\"><img src=\"./test_data/IMG-7.JPG\" style=\"display:inline;margin:1px;\"/><div>Sandal(87.0)<br/>T-shirt/Top(9.0)<br/>Bag(3.0)<br/></div></div><div style=\"position: relative;float: right; margin: 5px;width:200px; height: 400px\"><img src=\"./test_data/IMG-9.JPG\" style=\"display:inline;margin:1px;\"/><div>Bag(100.0)<br/></div></div><div style=\"position: relative;float: right; margin: 5px;width:200px; height: 400px\"><img src=\"./test_data/IMG-8.JPG\" style=\"display:inline;margin:1px;\"/><div>Trouser(100.0)<br/></div></div><div style=\"position: relative;float: right; margin: 5px;width:200px; height: 400px\"><img src=\"./test_data/IMG-13.JPG\" style=\"display:inline;margin:1px;\"/><div>Trouser(100.0)<br/></div></div><div style=\"position: relative;float: right; margin: 5px;width:200px; height: 400px\"><img src=\"./test_data/IMG-12.JPG\" style=\"display:inline;margin:1px;\"/><div>Sandal(60.000004)<br/>T-shirt/Top(30.000002)<br/>Shirt(5.0)<br/></div></div><div style=\"position: relative;float: right; margin: 5px;width:200px; height: 400px\"><img src=\"./test_data/IMG-10.JPG\" style=\"display:inline;margin:1px;\"/><div>Bag(100.0)<br/></div></div><div style=\"position: relative;float: right; margin: 5px;width:200px; height: 400px\"><img src=\"./test_data/IMG-11.JPG\" style=\"display:inline;margin:1px;\"/><div>Sandal(81.0)<br/>Ankle Boot(17.0)<br/>Sneaker(1.0)<br/></div></div>"
      ],
      "text/plain": [
       "<IPython.core.display.HTML object>"
      ]
     },
     "metadata": {},
     "output_type": "display_data"
    }
   ],
   "source": [
    "display(HTML(content))"
   ]
  },
  {
   "cell_type": "code",
   "execution_count": 39,
   "metadata": {},
   "outputs": [
    {
     "data": {
      "text/plain": [
       "'10.35'"
      ]
     },
     "execution_count": 39,
     "metadata": {},
     "output_type": "execute_result"
    }
   ],
   "source": [
    "\"%0.2f\" % 10.34576"
   ]
  }
 ],
 "metadata": {
  "kernelspec": {
   "display_name": "Python 3",
   "language": "python",
   "name": "python3"
  },
  "language_info": {
   "codemirror_mode": {
    "name": "ipython",
    "version": 3
   },
   "file_extension": ".py",
   "mimetype": "text/x-python",
   "name": "python",
   "nbconvert_exporter": "python",
   "pygments_lexer": "ipython3",
   "version": "3.6.4"
  }
 },
 "nbformat": 4,
 "nbformat_minor": 2
}
